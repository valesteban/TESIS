{
 "cells": [
  {
   "cell_type": "markdown",
   "metadata": {},
   "source": [
    "# Importar Librerias"
   ]
  },
  {
   "cell_type": "code",
   "execution_count": 5,
   "metadata": {},
   "outputs": [],
   "source": [
    "import pandas as pd\n",
    "import numpy as np\n",
    "import os"
   ]
  },
  {
   "cell_type": "code",
   "execution_count": 14,
   "metadata": {},
   "outputs": [
    {
     "data": {
      "text/html": [
       "<div>\n",
       "<style scoped>\n",
       "    .dataframe tbody tr th:only-of-type {\n",
       "        vertical-align: middle;\n",
       "    }\n",
       "\n",
       "    .dataframe tbody tr th {\n",
       "        vertical-align: top;\n",
       "    }\n",
       "\n",
       "    .dataframe thead th {\n",
       "        text-align: right;\n",
       "    }\n",
       "</style>\n",
       "<table border=\"1\" class=\"dataframe\">\n",
       "  <thead>\n",
       "    <tr style=\"text-align: right;\">\n",
       "      <th></th>\n",
       "      <th>src_id</th>\n",
       "      <th>dst_id</th>\n",
       "    </tr>\n",
       "  </thead>\n",
       "  <tbody>\n",
       "    <tr>\n",
       "      <th>0</th>\n",
       "      <td>src_id</td>\n",
       "      <td>dst_id</td>\n",
       "    </tr>\n",
       "    <tr>\n",
       "      <th>1</th>\n",
       "      <td>15695</td>\n",
       "      <td>39533</td>\n",
       "    </tr>\n",
       "    <tr>\n",
       "      <th>2</th>\n",
       "      <td>262610</td>\n",
       "      <td>6939</td>\n",
       "    </tr>\n",
       "    <tr>\n",
       "      <th>3</th>\n",
       "      <td>12859</td>\n",
       "      <td>56647</td>\n",
       "    </tr>\n",
       "    <tr>\n",
       "      <th>4</th>\n",
       "      <td>11700</td>\n",
       "      <td>852</td>\n",
       "    </tr>\n",
       "    <tr>\n",
       "      <th>...</th>\n",
       "      <td>...</td>\n",
       "      <td>...</td>\n",
       "    </tr>\n",
       "    <tr>\n",
       "      <th>212184</th>\n",
       "      <td>33491</td>\n",
       "      <td>54278</td>\n",
       "    </tr>\n",
       "    <tr>\n",
       "      <th>212185</th>\n",
       "      <td>42541</td>\n",
       "      <td>4637</td>\n",
       "    </tr>\n",
       "    <tr>\n",
       "      <th>212186</th>\n",
       "      <td>21574</td>\n",
       "      <td>271252</td>\n",
       "    </tr>\n",
       "    <tr>\n",
       "      <th>212187</th>\n",
       "      <td>263583</td>\n",
       "      <td>271143</td>\n",
       "    </tr>\n",
       "    <tr>\n",
       "      <th>212188</th>\n",
       "      <td>211737</td>\n",
       "      <td>3320</td>\n",
       "    </tr>\n",
       "  </tbody>\n",
       "</table>\n",
       "<p>212189 rows × 2 columns</p>\n",
       "</div>"
      ],
      "text/plain": [
       "        src_id  dst_id\n",
       "0       src_id  dst_id\n",
       "1        15695   39533\n",
       "2       262610    6939\n",
       "3        12859   56647\n",
       "4        11700     852\n",
       "...        ...     ...\n",
       "212184   33491   54278\n",
       "212185   42541    4637\n",
       "212186   21574  271252\n",
       "212187  263583  271143\n",
       "212188  211737    3320\n",
       "\n",
       "[212189 rows x 2 columns]"
      ]
     },
     "execution_count": 14,
     "metadata": {},
     "output_type": "execute_result"
    }
   ],
   "source": [
    "p = 'graph-2022-03-rrc03-ribs-edges.csv'\n",
    "\n",
    "df = pd.read_csv(p, sep=',', header=None, names=['src_id', 'dst_id'])\n",
    "df"
   ]
  },
  {
   "cell_type": "code",
   "execution_count": 18,
   "metadata": {},
   "outputs": [
    {
     "name": "stdout",
     "output_type": "stream",
     "text": [
      "['graph-2022-06-rrc00-ribs-edges.csv', 'graph-2022-03-rrc03-ribs-edges.csv', 'graph-2022-04-rrc01-ribs-edges.csv', 'graph-2021-06-rrc03-ribs-edges.csv', 'mini-eda.ipynb']\n",
      "(212189, 2)\n",
      "(212189, 2)\n",
      "(212189, 2)\n",
      "(212189, 2)\n",
      "(212189, 2)\n"
     ]
    }
   ],
   "source": [
    "list_of_dowloaded_files = os.listdir(\".\")\n",
    "print(list_of_dowloaded_files)\n",
    "dict_df = {}\n",
    "for i,file in enumerate(list_of_dowloaded_files):\n",
    "    split_file = file.split(\"-\")\n",
    "    df = pd.read_csv(p, sep=',', header=None, names=['src_id', 'dst_id'])\n",
    "\n",
    "    dict_df[\"rrc-{split_file[2]}-{split_file[1]}\"] = df\n",
    "    print(df.shape)\n",
    "    \n",
    "#FIXME: Definitivamente los estoy descargando más, todos me están dando la misma información"
   ]
  }
 ],
 "metadata": {
  "kernelspec": {
   "display_name": "Python 3",
   "language": "python",
   "name": "python3"
  },
  "language_info": {
   "codemirror_mode": {
    "name": "ipython",
    "version": 3
   },
   "file_extension": ".py",
   "mimetype": "text/x-python",
   "name": "python",
   "nbconvert_exporter": "python",
   "pygments_lexer": "ipython3",
   "version": "3.10.12"
  }
 },
 "nbformat": 4,
 "nbformat_minor": 2
}
